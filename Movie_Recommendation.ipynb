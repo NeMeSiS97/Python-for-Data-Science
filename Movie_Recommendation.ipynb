{
  "nbformat": 4,
  "nbformat_minor": 0,
  "metadata": {
    "colab": {
      "name": "Movie_Recommendation.ipynb",
      "version": "0.3.2",
      "provenance": [],
      "collapsed_sections": []
    },
    "kernelspec": {
      "name": "python3",
      "display_name": "Python 3"
    }
  },
  "cells": [
    {
      "metadata": {
        "id": "rgGBYmk5RSK_",
        "colab_type": "code",
        "colab": {
          "base_uri": "https://localhost:8080/",
          "height": 309
        },
        "outputId": "315862af-1c79-456c-d771-ed2eb98d27ad"
      },
      "cell_type": "code",
      "source": [
        "!pip install lightfm"
      ],
      "execution_count": 2,
      "outputs": [
        {
          "output_type": "stream",
          "text": [
            "Collecting lightfm\n",
            "\u001b[?25l  Downloading https://files.pythonhosted.org/packages/e9/8e/5485ac5a8616abe1c673d1e033e2f232b4319ab95424b42499fabff2257f/lightfm-1.15.tar.gz (302kB)\n",
            "\u001b[K    100% |████████████████████████████████| 307kB 7.2MB/s \n",
            "\u001b[?25hRequirement already satisfied: numpy in /usr/local/lib/python3.6/dist-packages (from lightfm) (1.16.2)\n",
            "Requirement already satisfied: scipy>=0.17.0 in /usr/local/lib/python3.6/dist-packages (from lightfm) (1.2.1)\n",
            "Requirement already satisfied: requests in /usr/local/lib/python3.6/dist-packages (from lightfm) (2.18.4)\n",
            "Requirement already satisfied: certifi>=2017.4.17 in /usr/local/lib/python3.6/dist-packages (from requests->lightfm) (2019.3.9)\n",
            "Requirement already satisfied: idna<2.7,>=2.5 in /usr/local/lib/python3.6/dist-packages (from requests->lightfm) (2.6)\n",
            "Requirement already satisfied: chardet<3.1.0,>=3.0.2 in /usr/local/lib/python3.6/dist-packages (from requests->lightfm) (3.0.4)\n",
            "Requirement already satisfied: urllib3<1.23,>=1.21.1 in /usr/local/lib/python3.6/dist-packages (from requests->lightfm) (1.22)\n",
            "Building wheels for collected packages: lightfm\n",
            "  Building wheel for lightfm (setup.py) ... \u001b[?25ldone\n",
            "\u001b[?25h  Stored in directory: /root/.cache/pip/wheels/eb/bb/ac/188385a5da6627956be5d9663928483b36da576149ab5b8f79\n",
            "Successfully built lightfm\n",
            "Installing collected packages: lightfm\n",
            "Successfully installed lightfm-1.15\n"
          ],
          "name": "stdout"
        }
      ]
    },
    {
      "metadata": {
        "id": "iqLEpZcsQFpI",
        "colab_type": "code",
        "colab": {
          "base_uri": "https://localhost:8080/",
          "height": 476
        },
        "outputId": "14727536-5ada-436e-808c-267b31fc18e1"
      },
      "cell_type": "code",
      "source": [
        "import numpy as np\n",
        "from lightfm.datasets import fetch_movielens\n",
        "from lightfm import LightFM\n",
        "\n",
        "\n",
        "#fetch data and format it\n",
        "data = fetch_movielens(min_rating=4.0)\n",
        "\n",
        "\n",
        "#create model\n",
        "model = LightFM(loss='warp')\n",
        "#train model\n",
        "model.fit(data['train'], epochs=30, num_threads=2)\n",
        "\n",
        "\n",
        "\n",
        "def sample_recommendation(model, data, user_ids):\n",
        "\n",
        "    #number of users and movies in training data\n",
        "    n_users, n_items = data['train'].shape\n",
        "\n",
        "    #generate recommendations for each user we input\n",
        "    for user_id in user_ids:\n",
        "\n",
        "        #movies they already like\n",
        "        known_positives = data['item_labels'][data['train'].tocsr()[user_id].indices]\n",
        "\n",
        "        #movies our model predicts they will like\n",
        "        scores = model.predict(user_id, np.arange(n_items))\n",
        "        #rank them in order of most liked to least\n",
        "        top_items = data['item_labels'][np.argsort(-scores)]\n",
        "\n",
        "        #print out the results\n",
        "        print(\"User %s\" % user_id)\n",
        "        print(\"     Known positives:\")\n",
        "\n",
        "        for x in known_positives[:3]:\n",
        "            print(\"        %s\" % x)\n",
        "\n",
        "        print(\"     Recommended:\")\n",
        "\n",
        "        for x in top_items[:3]:\n",
        "            print(\"        %s\" % x)\n",
        "            \n",
        "sample_recommendation(model, data, [3, 10, 450])\n"
      ],
      "execution_count": 17,
      "outputs": [
        {
          "output_type": "stream",
          "text": [
            "User 3\n",
            "     Known positives:\n",
            "        Seven (Se7en) (1995)\n",
            "        Contact (1997)\n",
            "        Starship Troopers (1997)\n",
            "     Recommended:\n",
            "        Scream (1996)\n",
            "        Cop Land (1997)\n",
            "        Game, The (1997)\n",
            "User 10\n",
            "     Known positives:\n",
            "        Babe (1995)\n",
            "        Dead Man Walking (1995)\n",
            "        Mr. Holland's Opus (1995)\n",
            "     Recommended:\n",
            "        Star Wars (1977)\n",
            "        Fargo (1996)\n",
            "        Return of the Jedi (1983)\n",
            "User 450\n",
            "     Known positives:\n",
            "        Contact (1997)\n",
            "        George of the Jungle (1997)\n",
            "        Event Horizon (1997)\n",
            "     Recommended:\n",
            "        Kiss the Girls (1997)\n",
            "        Cop Land (1997)\n",
            "        G.I. Jane (1997)\n"
          ],
          "name": "stdout"
        }
      ]
    }
  ]
}