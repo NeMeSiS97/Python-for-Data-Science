{
  "nbformat": 4,
  "nbformat_minor": 0,
  "metadata": {
    "colab": {
      "name": "twitter_sentiment_analysis.ipynb",
      "version": "0.3.2",
      "provenance": []
    },
    "kernelspec": {
      "name": "python3",
      "display_name": "Python 3"
    }
  },
  "cells": [
    {
      "metadata": {
        "id": "mfoVJMH48vXZ",
        "colab_type": "code",
        "colab": {}
      },
      "cell_type": "code",
      "source": [
        "import tweepy\n",
        "from textblob import TextBlob\n",
        "import csv\n",
        "\n",
        "# Step 1 - Authenticate\n",
        "consumer_key= '0MtjYuVp78soXgu3xQRKfHYCP'\n",
        "consumer_secret= '0MsFY23mqtQl08P4QYDQ48V0nlnryYy1mvreitxAMxLYDY4XPo'\n",
        "\n",
        "access_token='879564060378804225-ISeEQu84tS0nRL8Uf8b5cnHZTEeMzNH'\n",
        "access_token_secret='JN4LqewnJyjP9KtEOgfd8ZNYlXJTb0gUgjqSdbBxcYEfF'\n",
        "\n",
        "auth = tweepy.OAuthHandler(consumer_key, consumer_secret)\n",
        "auth.set_access_token(access_token, access_token_secret)\n",
        "\n",
        "api = tweepy.API(auth)\n",
        "\n",
        "#Step 3 - Retrieve Tweets\n",
        "public_tweets = api.search('Trump')\n",
        "\n",
        "\n",
        "\n",
        "\n",
        "with open('tweets.csv', 'w') as csvfile:\n",
        "  filewriter = csv.writer(csvfile, delimiter=',', quotechar='|', quoting=csv.QUOTE_MINIMAL)\n",
        "    \n",
        "  for tweet in public_tweets:\n",
        "    #print(tweet.text)    \n",
        "    #Step 4 Perform Sentiment Analysis on Tweets\n",
        "    analysis = TextBlob(tweet.text)\n",
        "    #print(analysis.sentiment)\n",
        "    if(float(analysis.sentiment.polarity)>0):\n",
        "      filewriter.writerow(['Positive', tweet.text])\n",
        "    elif(float(analysis.sentiment.polarity)<0):\n",
        "      filewriter.writerow(['Negative', tweet.text])\n",
        "   \n"
      ],
      "execution_count": 0,
      "outputs": []
    },
    {
      "metadata": {
        "id": "4KO7HsrLV2kh",
        "colab_type": "code",
        "colab": {
          "base_uri": "https://localhost:8080/",
          "height": 139
        },
        "outputId": "dd95a53f-039d-4326-b946-cda1233e8e4a"
      },
      "cell_type": "code",
      "source": [
        "with open('tweets.csv', 'r') as f:\n",
        "    reader = csv.reader(f) \n",
        "    # read file row by row\n",
        "    for row in reader:\n",
        "        print(row)"
      ],
      "execution_count": 30,
      "outputs": [
        {
          "output_type": "stream",
          "text": [
            "['Positive', \"|RT @RadioFreeTom: One interesting aspect of the Mueller Report is not what's in it\", \" but how Trump's shills have reacted to it. They have ta…|\"]\n",
            "['Negative', '|RT @tribelaw: If an impeached and disgraced but politically acquitted Trump loses in 2020', ' he’ll be fully subject to criminal prosecution f…|']\n",
            "['Positive', 'RT @kylegriffin1: Julian Castro said today that it would be \"perfectly reasonable\" for Congress to open impeachment proceedings. \"It\\'s clea…']\n",
            "['Positive', 'RT @seanhannity: Mueller’s Final Report ‘Completely Vindicates’ President Trump 👇 https://t.co/t97JxHWdji']\n",
            "['Positive', '|RT @NatashaBertrand: New from me: After working to help Trump win', ' Putin wanted to cash in. So he encouraged his oligarchs to make contact…|']\n",
            "['Negative', '|Mule face had nothing ever on Pres. Trump! Sorry', ' actually  had Killary', ' Clinton Foundation', ' Obamanation', ' Bush Fami… https://t.co/Cy2pMWOVv8|']\n"
          ],
          "name": "stdout"
        }
      ]
    }
  ]
}